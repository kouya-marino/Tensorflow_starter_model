{
 "cells": [
  {
   "cell_type": "markdown",
   "metadata": {},
   "source": [
    "# 0. Import Data"
   ]
  },
  {
   "cell_type": "code",
   "execution_count": 2,
   "metadata": {},
   "outputs": [],
   "source": [
    "import pandas as pd\n",
    "from sklearn.model_selection import train_test_split"
   ]
  },
  {
   "cell_type": "code",
   "execution_count": 3,
   "metadata": {},
   "outputs": [],
   "source": [
    "df = pd.read_csv('Churn.csv')"
   ]
  },
  {
   "cell_type": "code",
   "execution_count": 4,
   "metadata": {},
   "outputs": [],
   "source": [
    "X = pd.get_dummies(df.drop(['Churn', 'Customer ID'], axis=1))\n",
    "y = df['Churn'].apply(lambda x: 1 if x=='Yes' else 0)"
   ]
  },
  {
   "cell_type": "code",
   "execution_count": 5,
   "metadata": {},
   "outputs": [],
   "source": [
    "X_train, X_test, y_train, y_test = train_test_split(X, y, test_size=.2)"
   ]
  },
  {
   "cell_type": "code",
   "execution_count": 6,
   "metadata": {},
   "outputs": [
    {
     "data": {
      "text/plain": [
       "3832    1\n",
       "3729    0\n",
       "6093    0\n",
       "2711    0\n",
       "2825    0\n",
       "Name: Churn, dtype: int64"
      ]
     },
     "execution_count": 6,
     "metadata": {},
     "output_type": "execute_result"
    }
   ],
   "source": [
    "y_train.head()"
   ]
  },
  {
   "cell_type": "markdown",
   "metadata": {},
   "source": [
    "# 1. Import Dependencies"
   ]
  },
  {
   "cell_type": "code",
   "execution_count": 7,
   "metadata": {},
   "outputs": [],
   "source": [
    "from tensorflow.keras.models import Sequential, load_model\n",
    "from tensorflow.keras.layers import Dense\n",
    "from sklearn.metrics import accuracy_score"
   ]
  },
  {
   "cell_type": "markdown",
   "metadata": {},
   "source": [
    "# 2. Build and Compile Model"
   ]
  },
  {
   "cell_type": "code",
   "execution_count": 8,
   "metadata": {},
   "outputs": [],
   "source": [
    "model = Sequential()\n",
    "model.add(Dense(units=32, activation='relu', input_dim=len(X_train.columns)))\n",
    "model.add(Dense(units=64, activation='relu'))\n",
    "model.add(Dense(units=1, activation='sigmoid'))"
   ]
  },
  {
   "cell_type": "code",
   "execution_count": 9,
   "metadata": {},
   "outputs": [],
   "source": [
    "model.compile(loss='binary_crossentropy', optimizer='sgd', metrics='accuracy')"
   ]
  },
  {
   "cell_type": "markdown",
   "metadata": {},
   "source": [
    "# 3. Fit, Predict and Evaluate"
   ]
  },
  {
   "cell_type": "code",
   "execution_count": 10,
   "metadata": {},
   "outputs": [
    {
     "name": "stdout",
     "output_type": "stream",
     "text": [
      "Epoch 1/200\n",
      "177/177 [==============================] - 1s 1ms/step - loss: 0.5391 - accuracy: 0.7261\n",
      "Epoch 2/200\n",
      "177/177 [==============================] - 0s 1ms/step - loss: 0.4894 - accuracy: 0.7737\n",
      "Epoch 3/200\n",
      "177/177 [==============================] - 0s 1ms/step - loss: 0.4777 - accuracy: 0.7800\n",
      "Epoch 4/200\n",
      "177/177 [==============================] - 0s 1ms/step - loss: 0.4704 - accuracy: 0.7851\n",
      "Epoch 5/200\n",
      "177/177 [==============================] - 0s 1ms/step - loss: 0.4688 - accuracy: 0.7837\n",
      "Epoch 6/200\n",
      "177/177 [==============================] - 0s 1ms/step - loss: 0.4629 - accuracy: 0.7806\n",
      "Epoch 7/200\n",
      "177/177 [==============================] - 0s 1ms/step - loss: 0.4698 - accuracy: 0.7805\n",
      "Epoch 8/200\n",
      "177/177 [==============================] - 0s 1ms/step - loss: 0.4654 - accuracy: 0.7855\n",
      "Epoch 9/200\n",
      "177/177 [==============================] - 0s 1ms/step - loss: 0.4732 - accuracy: 0.7743\n",
      "Epoch 10/200\n",
      "177/177 [==============================] - 0s 2ms/step - loss: 0.4713 - accuracy: 0.7820\n",
      "Epoch 11/200\n",
      "177/177 [==============================] - 0s 1ms/step - loss: 0.4619 - accuracy: 0.7857\n",
      "Epoch 12/200\n",
      "177/177 [==============================] - 0s 1ms/step - loss: 0.4737 - accuracy: 0.7780\n",
      "Epoch 13/200\n",
      "177/177 [==============================] - 0s 1ms/step - loss: 0.4469 - accuracy: 0.7919\n",
      "Epoch 14/200\n",
      "177/177 [==============================] - 0s 1ms/step - loss: 0.4747 - accuracy: 0.7700\n",
      "Epoch 15/200\n",
      "177/177 [==============================] - 0s 1ms/step - loss: 0.4613 - accuracy: 0.7827\n",
      "Epoch 16/200\n",
      "177/177 [==============================] - 0s 1ms/step - loss: 0.4650 - accuracy: 0.7773\n",
      "Epoch 17/200\n",
      "177/177 [==============================] - 0s 2ms/step - loss: 0.4670 - accuracy: 0.7724\n",
      "Epoch 18/200\n",
      "177/177 [==============================] - 0s 2ms/step - loss: 0.4472 - accuracy: 0.7885\n",
      "Epoch 19/200\n",
      "177/177 [==============================] - 0s 1ms/step - loss: 0.4566 - accuracy: 0.7854\n",
      "Epoch 20/200\n",
      "177/177 [==============================] - 0s 2ms/step - loss: 0.4658 - accuracy: 0.7716\n",
      "Epoch 21/200\n",
      "177/177 [==============================] - 0s 1ms/step - loss: 0.4643 - accuracy: 0.7854\n",
      "Epoch 22/200\n",
      "177/177 [==============================] - 0s 1ms/step - loss: 0.4497 - accuracy: 0.7894\n",
      "Epoch 23/200\n",
      "177/177 [==============================] - 0s 1ms/step - loss: 0.4661 - accuracy: 0.7790\n",
      "Epoch 24/200\n",
      "177/177 [==============================] - 0s 1ms/step - loss: 0.4569 - accuracy: 0.7840\n",
      "Epoch 25/200\n",
      "177/177 [==============================] - 0s 1ms/step - loss: 0.4535 - accuracy: 0.7854\n",
      "Epoch 26/200\n",
      "177/177 [==============================] - 0s 2ms/step - loss: 0.4572 - accuracy: 0.7801\n",
      "Epoch 27/200\n",
      "177/177 [==============================] - 0s 1ms/step - loss: 0.4548 - accuracy: 0.7816\n",
      "Epoch 28/200\n",
      "177/177 [==============================] - 0s 1ms/step - loss: 0.4414 - accuracy: 0.7965\n",
      "Epoch 29/200\n",
      "177/177 [==============================] - 0s 2ms/step - loss: 0.4301 - accuracy: 0.8037\n",
      "Epoch 30/200\n",
      "177/177 [==============================] - 0s 1ms/step - loss: 0.4430 - accuracy: 0.7870\n",
      "Epoch 31/200\n",
      "177/177 [==============================] - 0s 1ms/step - loss: 0.4574 - accuracy: 0.7802\n",
      "Epoch 32/200\n",
      "177/177 [==============================] - 0s 1ms/step - loss: 0.4540 - accuracy: 0.7829\n",
      "Epoch 33/200\n",
      "177/177 [==============================] - 0s 1ms/step - loss: 0.4511 - accuracy: 0.7873\n",
      "Epoch 34/200\n",
      "177/177 [==============================] - 0s 2ms/step - loss: 0.4401 - accuracy: 0.7962\n",
      "Epoch 35/200\n",
      "177/177 [==============================] - 0s 1ms/step - loss: 0.4471 - accuracy: 0.7865\n",
      "Epoch 36/200\n",
      "177/177 [==============================] - 0s 1ms/step - loss: 0.4455 - accuracy: 0.7875\n",
      "Epoch 37/200\n",
      "177/177 [==============================] - 0s 1ms/step - loss: 0.4445 - accuracy: 0.7921\n",
      "Epoch 38/200\n",
      "177/177 [==============================] - 0s 1ms/step - loss: 0.4544 - accuracy: 0.7809\n",
      "Epoch 39/200\n",
      "177/177 [==============================] - 0s 1ms/step - loss: 0.4491 - accuracy: 0.7858\n",
      "Epoch 40/200\n",
      "177/177 [==============================] - 0s 1ms/step - loss: 0.4452 - accuracy: 0.7879\n",
      "Epoch 41/200\n",
      "177/177 [==============================] - 0s 2ms/step - loss: 0.4380 - accuracy: 0.7901\n",
      "Epoch 42/200\n",
      "177/177 [==============================] - 0s 2ms/step - loss: 0.4414 - accuracy: 0.7896\n",
      "Epoch 43/200\n",
      "177/177 [==============================] - 0s 1ms/step - loss: 0.4629 - accuracy: 0.7789\n",
      "Epoch 44/200\n",
      "177/177 [==============================] - 0s 2ms/step - loss: 0.4444 - accuracy: 0.7871\n",
      "Epoch 45/200\n",
      "177/177 [==============================] - 0s 2ms/step - loss: 0.4431 - accuracy: 0.7880\n",
      "Epoch 46/200\n",
      "177/177 [==============================] - 0s 1ms/step - loss: 0.4408 - accuracy: 0.7921\n",
      "Epoch 47/200\n",
      "177/177 [==============================] - 0s 1ms/step - loss: 0.4505 - accuracy: 0.7896\n",
      "Epoch 48/200\n",
      "177/177 [==============================] - 0s 1ms/step - loss: 0.4362 - accuracy: 0.7930\n",
      "Epoch 49/200\n",
      "177/177 [==============================] - 0s 1ms/step - loss: 0.4441 - accuracy: 0.7884\n",
      "Epoch 50/200\n",
      "177/177 [==============================] - 0s 1ms/step - loss: 0.4495 - accuracy: 0.7876\n",
      "Epoch 51/200\n",
      "177/177 [==============================] - 0s 1ms/step - loss: 0.4532 - accuracy: 0.7811\n",
      "Epoch 52/200\n",
      "177/177 [==============================] - 0s 2ms/step - loss: 0.4421 - accuracy: 0.7928\n",
      "Epoch 53/200\n",
      "177/177 [==============================] - 0s 1ms/step - loss: 0.4395 - accuracy: 0.7916\n",
      "Epoch 54/200\n",
      "177/177 [==============================] - 0s 1ms/step - loss: 0.4441 - accuracy: 0.7854\n",
      "Epoch 55/200\n",
      "177/177 [==============================] - 0s 1ms/step - loss: 0.4500 - accuracy: 0.7862\n",
      "Epoch 56/200\n",
      "177/177 [==============================] - 0s 1ms/step - loss: 0.4437 - accuracy: 0.7908\n",
      "Epoch 57/200\n",
      "177/177 [==============================] - 0s 2ms/step - loss: 0.4477 - accuracy: 0.7865\n",
      "Epoch 58/200\n",
      "177/177 [==============================] - 0s 1ms/step - loss: 0.4467 - accuracy: 0.7893\n",
      "Epoch 59/200\n",
      "177/177 [==============================] - 0s 1ms/step - loss: 0.4481 - accuracy: 0.7891\n",
      "Epoch 60/200\n",
      "177/177 [==============================] - 0s 1ms/step - loss: 0.4582 - accuracy: 0.7848\n",
      "Epoch 61/200\n",
      "177/177 [==============================] - 0s 1ms/step - loss: 0.4514 - accuracy: 0.7846\n",
      "Epoch 62/200\n",
      "177/177 [==============================] - 0s 1ms/step - loss: 0.4386 - accuracy: 0.7943\n",
      "Epoch 63/200\n",
      "177/177 [==============================] - 0s 1ms/step - loss: 0.4465 - accuracy: 0.7863\n",
      "Epoch 64/200\n",
      "177/177 [==============================] - 0s 1ms/step - loss: 0.4530 - accuracy: 0.7881\n",
      "Epoch 65/200\n",
      "177/177 [==============================] - 0s 1ms/step - loss: 0.4359 - accuracy: 0.7963\n",
      "Epoch 66/200\n",
      "177/177 [==============================] - 0s 1ms/step - loss: 0.4404 - accuracy: 0.7973\n",
      "Epoch 67/200\n",
      "177/177 [==============================] - 0s 1ms/step - loss: 0.4551 - accuracy: 0.7840\n",
      "Epoch 68/200\n",
      "177/177 [==============================] - 0s 1ms/step - loss: 0.4417 - accuracy: 0.7916\n",
      "Epoch 69/200\n",
      "177/177 [==============================] - 0s 1ms/step - loss: 0.4415 - accuracy: 0.7903\n",
      "Epoch 70/200\n",
      "177/177 [==============================] - 0s 1ms/step - loss: 0.4466 - accuracy: 0.7862\n",
      "Epoch 71/200\n",
      "177/177 [==============================] - 0s 1ms/step - loss: 0.4427 - accuracy: 0.7887\n",
      "Epoch 72/200\n",
      "177/177 [==============================] - 0s 1ms/step - loss: 0.4576 - accuracy: 0.7804\n",
      "Epoch 73/200\n",
      "177/177 [==============================] - 0s 1ms/step - loss: 0.4469 - accuracy: 0.7859\n",
      "Epoch 74/200\n",
      "177/177 [==============================] - 0s 1ms/step - loss: 0.4398 - accuracy: 0.7929\n",
      "Epoch 75/200\n",
      "177/177 [==============================] - 0s 1ms/step - loss: 0.4306 - accuracy: 0.7995\n",
      "Epoch 76/200\n",
      "177/177 [==============================] - 0s 1ms/step - loss: 0.4423 - accuracy: 0.7982\n",
      "Epoch 77/200\n",
      "177/177 [==============================] - 0s 1ms/step - loss: 0.4422 - accuracy: 0.7873\n",
      "Epoch 78/200\n",
      "177/177 [==============================] - 0s 1ms/step - loss: 0.4438 - accuracy: 0.7999\n",
      "Epoch 79/200\n",
      "177/177 [==============================] - 0s 1ms/step - loss: 0.4441 - accuracy: 0.7940\n",
      "Epoch 80/200\n",
      "177/177 [==============================] - 0s 1ms/step - loss: 0.4434 - accuracy: 0.8027\n",
      "Epoch 81/200\n"
     ]
    },
    {
     "name": "stdout",
     "output_type": "stream",
     "text": [
      "177/177 [==============================] - 0s 1ms/step - loss: 0.4295 - accuracy: 0.8040\n",
      "Epoch 82/200\n",
      "177/177 [==============================] - 0s 1ms/step - loss: 0.4228 - accuracy: 0.8018\n",
      "Epoch 83/200\n",
      "177/177 [==============================] - 0s 1ms/step - loss: 0.4331 - accuracy: 0.7987\n",
      "Epoch 84/200\n",
      "177/177 [==============================] - 0s 1ms/step - loss: 0.4264 - accuracy: 0.8078\n",
      "Epoch 85/200\n",
      "177/177 [==============================] - 0s 1ms/step - loss: 0.4480 - accuracy: 0.7875\n",
      "Epoch 86/200\n",
      "177/177 [==============================] - 0s 1ms/step - loss: 0.4379 - accuracy: 0.7981\n",
      "Epoch 87/200\n",
      "177/177 [==============================] - 0s 1ms/step - loss: 0.4339 - accuracy: 0.7957\n",
      "Epoch 88/200\n",
      "177/177 [==============================] - 0s 1ms/step - loss: 0.4275 - accuracy: 0.8047\n",
      "Epoch 89/200\n",
      "177/177 [==============================] - 0s 1ms/step - loss: 0.4406 - accuracy: 0.7939\n",
      "Epoch 90/200\n",
      "177/177 [==============================] - 0s 1ms/step - loss: 0.4200 - accuracy: 0.8076\n",
      "Epoch 91/200\n",
      "177/177 [==============================] - 0s 1ms/step - loss: 0.4409 - accuracy: 0.7941\n",
      "Epoch 92/200\n",
      "177/177 [==============================] - 0s 1ms/step - loss: 0.4356 - accuracy: 0.7977\n",
      "Epoch 93/200\n",
      "177/177 [==============================] - 0s 1ms/step - loss: 0.4324 - accuracy: 0.8023\n",
      "Epoch 94/200\n",
      "177/177 [==============================] - 0s 1ms/step - loss: 0.4388 - accuracy: 0.7907\n",
      "Epoch 95/200\n",
      "177/177 [==============================] - 0s 1ms/step - loss: 0.4355 - accuracy: 0.7939\n",
      "Epoch 96/200\n",
      "177/177 [==============================] - 0s 1ms/step - loss: 0.4444 - accuracy: 0.7871\n",
      "Epoch 97/200\n",
      "177/177 [==============================] - 0s 1ms/step - loss: 0.4266 - accuracy: 0.8028\n",
      "Epoch 98/200\n",
      "177/177 [==============================] - 0s 1ms/step - loss: 0.4454 - accuracy: 0.7908\n",
      "Epoch 99/200\n",
      "177/177 [==============================] - 0s 1ms/step - loss: 0.4354 - accuracy: 0.7911\n",
      "Epoch 100/200\n",
      "177/177 [==============================] - 0s 1ms/step - loss: 0.4503 - accuracy: 0.7891\n",
      "Epoch 101/200\n",
      "177/177 [==============================] - 0s 1ms/step - loss: 0.4451 - accuracy: 0.7872\n",
      "Epoch 102/200\n",
      "177/177 [==============================] - 0s 1ms/step - loss: 0.4420 - accuracy: 0.7965\n",
      "Epoch 103/200\n",
      "177/177 [==============================] - 0s 1ms/step - loss: 0.4400 - accuracy: 0.7928\n",
      "Epoch 104/200\n",
      "177/177 [==============================] - 0s 1ms/step - loss: 0.4294 - accuracy: 0.7979\n",
      "Epoch 105/200\n",
      "177/177 [==============================] - 0s 1ms/step - loss: 0.4193 - accuracy: 0.8038\n",
      "Epoch 106/200\n",
      "177/177 [==============================] - 0s 1ms/step - loss: 0.4526 - accuracy: 0.7839\n",
      "Epoch 107/200\n",
      "177/177 [==============================] - 0s 1ms/step - loss: 0.4364 - accuracy: 0.7888\n",
      "Epoch 108/200\n",
      "177/177 [==============================] - 0s 1ms/step - loss: 0.4423 - accuracy: 0.7890\n",
      "Epoch 109/200\n",
      "177/177 [==============================] - 0s 1ms/step - loss: 0.4405 - accuracy: 0.7847\n",
      "Epoch 110/200\n",
      "177/177 [==============================] - 0s 1ms/step - loss: 0.4357 - accuracy: 0.8007\n",
      "Epoch 111/200\n",
      "177/177 [==============================] - 0s 1ms/step - loss: 0.4258 - accuracy: 0.8024\n",
      "Epoch 112/200\n",
      "177/177 [==============================] - 0s 1ms/step - loss: 0.4221 - accuracy: 0.8061\n",
      "Epoch 113/200\n",
      "177/177 [==============================] - 0s 1ms/step - loss: 0.4237 - accuracy: 0.7989\n",
      "Epoch 114/200\n",
      "177/177 [==============================] - 0s 1ms/step - loss: 0.4162 - accuracy: 0.7983\n",
      "Epoch 115/200\n",
      "177/177 [==============================] - 0s 1ms/step - loss: 0.4849 - accuracy: 0.7452\n",
      "Epoch 116/200\n",
      "177/177 [==============================] - 0s 1ms/step - loss: 0.4625 - accuracy: 0.7804\n",
      "Epoch 117/200\n",
      "177/177 [==============================] - 0s 1ms/step - loss: 0.4495 - accuracy: 0.7927\n",
      "Epoch 118/200\n",
      "177/177 [==============================] - 0s 1ms/step - loss: 0.4362 - accuracy: 0.7966\n",
      "Epoch 119/200\n",
      "177/177 [==============================] - 0s 1ms/step - loss: 0.4388 - accuracy: 0.8007\n",
      "Epoch 120/200\n",
      "177/177 [==============================] - 0s 1ms/step - loss: 0.4450 - accuracy: 0.7859\n",
      "Epoch 121/200\n",
      "177/177 [==============================] - 0s 2ms/step - loss: 0.4384 - accuracy: 0.7944\n",
      "Epoch 122/200\n",
      "177/177 [==============================] - 0s 1ms/step - loss: 0.4591 - accuracy: 0.7901\n",
      "Epoch 123/200\n",
      "177/177 [==============================] - 0s 1ms/step - loss: 0.4388 - accuracy: 0.7950\n",
      "Epoch 124/200\n",
      "177/177 [==============================] - 0s 1ms/step - loss: 0.4416 - accuracy: 0.7909\n",
      "Epoch 125/200\n",
      "177/177 [==============================] - 0s 1ms/step - loss: 0.4450 - accuracy: 0.7901\n",
      "Epoch 126/200\n",
      "177/177 [==============================] - 0s 1ms/step - loss: 0.4310 - accuracy: 0.7926\n",
      "Epoch 127/200\n",
      "177/177 [==============================] - 0s 1ms/step - loss: 0.4309 - accuracy: 0.8034\n",
      "Epoch 128/200\n",
      "177/177 [==============================] - 0s 1ms/step - loss: 0.4451 - accuracy: 0.7936\n",
      "Epoch 129/200\n",
      "177/177 [==============================] - 0s 1ms/step - loss: 0.4302 - accuracy: 0.7994\n",
      "Epoch 130/200\n",
      "177/177 [==============================] - 0s 1ms/step - loss: 0.4334 - accuracy: 0.7955\n",
      "Epoch 131/200\n",
      "177/177 [==============================] - 0s 1ms/step - loss: 0.4308 - accuracy: 0.7992\n",
      "Epoch 132/200\n",
      "177/177 [==============================] - 0s 1ms/step - loss: 0.4310 - accuracy: 0.7995\n",
      "Epoch 133/200\n",
      "177/177 [==============================] - 0s 1ms/step - loss: 0.4345 - accuracy: 0.8016\n",
      "Epoch 134/200\n",
      "177/177 [==============================] - 0s 1ms/step - loss: 0.4333 - accuracy: 0.8005\n",
      "Epoch 135/200\n",
      "177/177 [==============================] - 0s 1ms/step - loss: 0.4299 - accuracy: 0.7954\n",
      "Epoch 136/200\n",
      "177/177 [==============================] - 0s 1ms/step - loss: 0.4322 - accuracy: 0.7931\n",
      "Epoch 137/200\n",
      "177/177 [==============================] - 0s 1ms/step - loss: 0.4304 - accuracy: 0.7981\n",
      "Epoch 138/200\n",
      "177/177 [==============================] - 0s 1ms/step - loss: 0.4305 - accuracy: 0.8004\n",
      "Epoch 139/200\n",
      "177/177 [==============================] - 0s 1ms/step - loss: 0.4244 - accuracy: 0.7995\n",
      "Epoch 140/200\n",
      "177/177 [==============================] - 0s 1ms/step - loss: 0.4332 - accuracy: 0.7975\n",
      "Epoch 141/200\n",
      "177/177 [==============================] - 0s 1ms/step - loss: 0.4136 - accuracy: 0.8092\n",
      "Epoch 142/200\n",
      "177/177 [==============================] - 0s 1ms/step - loss: 0.4387 - accuracy: 0.7985\n",
      "Epoch 143/200\n",
      "177/177 [==============================] - 0s 1ms/step - loss: 0.4407 - accuracy: 0.7913\n",
      "Epoch 144/200\n",
      "177/177 [==============================] - 0s 1ms/step - loss: 0.4225 - accuracy: 0.8075\n",
      "Epoch 145/200\n",
      "177/177 [==============================] - 0s 1ms/step - loss: 0.4442 - accuracy: 0.7925\n",
      "Epoch 146/200\n",
      "177/177 [==============================] - 0s 1ms/step - loss: 0.4192 - accuracy: 0.8099\n",
      "Epoch 147/200\n",
      "177/177 [==============================] - 0s 1ms/step - loss: 0.4339 - accuracy: 0.7961\n",
      "Epoch 148/200\n",
      "177/177 [==============================] - 0s 2ms/step - loss: 0.4097 - accuracy: 0.8101\n",
      "Epoch 149/200\n",
      "177/177 [==============================] - 0s 1ms/step - loss: 0.4240 - accuracy: 0.8018\n",
      "Epoch 150/200\n",
      "177/177 [==============================] - 0s 1ms/step - loss: 0.4339 - accuracy: 0.8027\n",
      "Epoch 151/200\n",
      "177/177 [==============================] - 0s 1ms/step - loss: 0.4492 - accuracy: 0.8000\n",
      "Epoch 152/200\n",
      "177/177 [==============================] - 0s 1ms/step - loss: 0.4199 - accuracy: 0.8080\n",
      "Epoch 153/200\n",
      "177/177 [==============================] - 0s 1ms/step - loss: 0.4301 - accuracy: 0.7956\n",
      "Epoch 154/200\n",
      "177/177 [==============================] - 0s 1ms/step - loss: 0.4287 - accuracy: 0.8050\n",
      "Epoch 155/200\n",
      "177/177 [==============================] - 0s 1ms/step - loss: 0.4323 - accuracy: 0.7989\n",
      "Epoch 156/200\n",
      "177/177 [==============================] - 0s 1ms/step - loss: 0.4380 - accuracy: 0.7950\n",
      "Epoch 157/200\n",
      "177/177 [==============================] - 0s 1ms/step - loss: 0.4550 - accuracy: 0.7944\n",
      "Epoch 158/200\n",
      "177/177 [==============================] - 0s 1ms/step - loss: 0.4387 - accuracy: 0.7927\n",
      "Epoch 159/200\n",
      "177/177 [==============================] - 0s 1ms/step - loss: 0.4189 - accuracy: 0.8043\n",
      "Epoch 160/200\n"
     ]
    },
    {
     "name": "stdout",
     "output_type": "stream",
     "text": [
      "177/177 [==============================] - 0s 1ms/step - loss: 0.4294 - accuracy: 0.7977\n",
      "Epoch 161/200\n",
      "177/177 [==============================] - 0s 1ms/step - loss: 0.4238 - accuracy: 0.8065\n",
      "Epoch 162/200\n",
      "177/177 [==============================] - 0s 1ms/step - loss: 0.4176 - accuracy: 0.8059\n",
      "Epoch 163/200\n",
      "177/177 [==============================] - 0s 1ms/step - loss: 0.4407 - accuracy: 0.7958\n",
      "Epoch 164/200\n",
      "177/177 [==============================] - 0s 1ms/step - loss: 0.4147 - accuracy: 0.8044\n",
      "Epoch 165/200\n",
      "177/177 [==============================] - 0s 1ms/step - loss: 0.4316 - accuracy: 0.7987\n",
      "Epoch 166/200\n",
      "177/177 [==============================] - 0s 1ms/step - loss: 0.4325 - accuracy: 0.8006\n",
      "Epoch 167/200\n",
      "177/177 [==============================] - 0s 1ms/step - loss: 0.4358 - accuracy: 0.7973\n",
      "Epoch 168/200\n",
      "177/177 [==============================] - 0s 1ms/step - loss: 0.4368 - accuracy: 0.7981\n",
      "Epoch 169/200\n",
      "177/177 [==============================] - 0s 1ms/step - loss: 0.4209 - accuracy: 0.7989\n",
      "Epoch 170/200\n",
      "177/177 [==============================] - 0s 1ms/step - loss: 0.4163 - accuracy: 0.8035\n",
      "Epoch 171/200\n",
      "177/177 [==============================] - 0s 1ms/step - loss: 0.4259 - accuracy: 0.7985\n",
      "Epoch 172/200\n",
      "177/177 [==============================] - 0s 1ms/step - loss: 0.4230 - accuracy: 0.8012\n",
      "Epoch 173/200\n",
      "177/177 [==============================] - 0s 1ms/step - loss: 0.4203 - accuracy: 0.7989\n",
      "Epoch 174/200\n",
      "177/177 [==============================] - 0s 1ms/step - loss: 0.4208 - accuracy: 0.8053\n",
      "Epoch 175/200\n",
      "177/177 [==============================] - 0s 1ms/step - loss: 0.4087 - accuracy: 0.8072\n",
      "Epoch 176/200\n",
      "177/177 [==============================] - 0s 1ms/step - loss: 0.4483 - accuracy: 0.7879\n",
      "Epoch 177/200\n",
      "177/177 [==============================] - 0s 1ms/step - loss: 0.4232 - accuracy: 0.8021\n",
      "Epoch 178/200\n",
      "177/177 [==============================] - 0s 1ms/step - loss: 0.4484 - accuracy: 0.7816\n",
      "Epoch 179/200\n",
      "177/177 [==============================] - 0s 1ms/step - loss: 0.4192 - accuracy: 0.7988\n",
      "Epoch 180/200\n",
      "177/177 [==============================] - 0s 1ms/step - loss: 0.4296 - accuracy: 0.8035\n",
      "Epoch 181/200\n",
      "177/177 [==============================] - 0s 1ms/step - loss: 0.4269 - accuracy: 0.8033\n",
      "Epoch 182/200\n",
      "177/177 [==============================] - 0s 1ms/step - loss: 0.4370 - accuracy: 0.7891\n",
      "Epoch 183/200\n",
      "177/177 [==============================] - 0s 1ms/step - loss: 0.4299 - accuracy: 0.7971\n",
      "Epoch 184/200\n",
      "177/177 [==============================] - 0s 1ms/step - loss: 0.4347 - accuracy: 0.7894\n",
      "Epoch 185/200\n",
      "177/177 [==============================] - 0s 1ms/step - loss: 0.4313 - accuracy: 0.7979\n",
      "Epoch 186/200\n",
      "177/177 [==============================] - 0s 1ms/step - loss: 0.4144 - accuracy: 0.8051\n",
      "Epoch 187/200\n",
      "177/177 [==============================] - 0s 1ms/step - loss: 0.4198 - accuracy: 0.8039\n",
      "Epoch 188/200\n",
      "177/177 [==============================] - 0s 1ms/step - loss: 0.4190 - accuracy: 0.8079\n",
      "Epoch 189/200\n",
      "177/177 [==============================] - 0s 1ms/step - loss: 0.4490 - accuracy: 0.7938\n",
      "Epoch 190/200\n",
      "177/177 [==============================] - 0s 1ms/step - loss: 0.4212 - accuracy: 0.7955\n",
      "Epoch 191/200\n",
      "177/177 [==============================] - 0s 1ms/step - loss: 0.4263 - accuracy: 0.7982\n",
      "Epoch 192/200\n",
      "177/177 [==============================] - 0s 1ms/step - loss: 0.4222 - accuracy: 0.7913\n",
      "Epoch 193/200\n",
      "177/177 [==============================] - 0s 1ms/step - loss: 0.4540 - accuracy: 0.7884\n",
      "Epoch 194/200\n",
      "177/177 [==============================] - 0s 1ms/step - loss: 0.4409 - accuracy: 0.7936\n",
      "Epoch 195/200\n",
      "177/177 [==============================] - 0s 1ms/step - loss: 0.4127 - accuracy: 0.8075\n",
      "Epoch 196/200\n",
      "177/177 [==============================] - 0s 1ms/step - loss: 0.4275 - accuracy: 0.8005\n",
      "Epoch 197/200\n",
      "177/177 [==============================] - 0s 1ms/step - loss: 0.4370 - accuracy: 0.7925\n",
      "Epoch 198/200\n",
      "177/177 [==============================] - 0s 1ms/step - loss: 0.4108 - accuracy: 0.8111\n",
      "Epoch 199/200\n",
      "177/177 [==============================] - 0s 1ms/step - loss: 0.4218 - accuracy: 0.7957\n",
      "Epoch 200/200\n",
      "177/177 [==============================] - 0s 1ms/step - loss: 0.4180 - accuracy: 0.8057\n"
     ]
    },
    {
     "data": {
      "text/plain": [
       "<tensorflow.python.keras.callbacks.History at 0x7f6ff806c430>"
      ]
     },
     "execution_count": 10,
     "metadata": {},
     "output_type": "execute_result"
    }
   ],
   "source": [
    "model.fit(X_train, y_train, epochs=200, batch_size=32)"
   ]
  },
  {
   "cell_type": "code",
   "execution_count": 11,
   "metadata": {},
   "outputs": [],
   "source": [
    "y_hat = model.predict(X_test)\n",
    "y_hat = [0 if val < 0.5 else 1 for val in y_hat]"
   ]
  },
  {
   "cell_type": "code",
   "execution_count": 12,
   "metadata": {},
   "outputs": [
    {
     "data": {
      "text/plain": [
       "0.7764371894960965"
      ]
     },
     "execution_count": 12,
     "metadata": {},
     "output_type": "execute_result"
    }
   ],
   "source": [
    "accuracy_score(y_test, y_hat)"
   ]
  },
  {
   "cell_type": "markdown",
   "metadata": {},
   "source": [
    "# 4. Saving and Reloading"
   ]
  },
  {
   "cell_type": "code",
   "execution_count": 13,
   "metadata": {},
   "outputs": [
    {
     "name": "stdout",
     "output_type": "stream",
     "text": [
      "INFO:tensorflow:Assets written to: tfmodel/assets\n"
     ]
    }
   ],
   "source": [
    "#Saving model to local file\n",
    "model.save('tfmodel')"
   ]
  },
  {
   "cell_type": "code",
   "execution_count": 14,
   "metadata": {},
   "outputs": [],
   "source": [
    "# Deleting model in code\n",
    "del model  "
   ]
  },
  {
   "cell_type": "code",
   "execution_count": 15,
   "metadata": {},
   "outputs": [],
   "source": [
    "# Loading saved model\n",
    "model = load_model('tfmodel')"
   ]
  },
  {
   "cell_type": "code",
   "execution_count": null,
   "metadata": {},
   "outputs": [],
   "source": []
  }
 ],
 "metadata": {
  "kernelspec": {
   "display_name": "project_env",
   "language": "python",
   "name": "project_env"
  },
  "language_info": {
   "codemirror_mode": {
    "name": "ipython",
    "version": 3
   },
   "file_extension": ".py",
   "mimetype": "text/x-python",
   "name": "python",
   "nbconvert_exporter": "python",
   "pygments_lexer": "ipython3",
   "version": "3.8.8"
  }
 },
 "nbformat": 4,
 "nbformat_minor": 2
}
